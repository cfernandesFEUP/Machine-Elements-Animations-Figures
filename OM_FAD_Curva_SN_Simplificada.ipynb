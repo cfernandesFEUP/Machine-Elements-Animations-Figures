{
 "cells": [
  {
   "cell_type": "markdown",
   "metadata": {
    "hideCode": true,
    "hidePrompt": true
   },
   "source": [
    "## Curva S-N Simplificada"
   ]
  },
  {
   "cell_type": "markdown",
   "metadata": {
    "hideCode": true,
    "hidePrompt": true
   },
   "source": [
    "Figura ilustrativa de Curva SN"
   ]
  },
  {
   "cell_type": "code",
   "execution_count": 65,
   "metadata": {
    "hideCode": true,
    "hidePrompt": true
   },
   "outputs": [],
   "source": [
    "import pandas as pd\n",
    "from sympy import *\n",
    "init_printing()\n",
    "x, y, b, n, a, sigma, sigmar = symbols('x y b n a sigma sigma_r', positive=True)\n",
    "m = symbols('m')"
   ]
  },
  {
   "cell_type": "markdown",
   "metadata": {
    "hideCode": true,
    "hidePrompt": true
   },
   "source": [
    "Tabela 1: Pontos característicos $\\sigma/\\sigma_r$ da curva SN de aços de tensão de rotura até 1400 Mpa."
   ]
  },
  {
   "cell_type": "code",
   "execution_count": 87,
   "metadata": {
    "hideCode": true,
    "hidePrompt": true,
    "scrolled": true
   },
   "outputs": [
    {
     "data": {
      "text/html": [
       "<div>\n",
       "<style scoped>\n",
       "    .dataframe tbody tr th:only-of-type {\n",
       "        vertical-align: middle;\n",
       "    }\n",
       "\n",
       "    .dataframe tbody tr th {\n",
       "        vertical-align: top;\n",
       "    }\n",
       "\n",
       "    .dataframe thead th {\n",
       "        text-align: right;\n",
       "    }\n",
       "</style>\n",
       "<table border=\"1\" class=\"dataframe\">\n",
       "  <thead>\n",
       "    <tr style=\"text-align: right;\">\n",
       "      <th></th>\n",
       "      <th>Flexão</th>\n",
       "      <th>Tracção</th>\n",
       "      <th>Torsão</th>\n",
       "    </tr>\n",
       "  </thead>\n",
       "  <tbody>\n",
       "    <tr>\n",
       "      <th>$10^3$</th>\n",
       "      <td>0.9</td>\n",
       "      <td>0.90</td>\n",
       "      <td>0.70</td>\n",
       "    </tr>\n",
       "    <tr>\n",
       "      <th>$10^6$</th>\n",
       "      <td>0.5</td>\n",
       "      <td>0.43</td>\n",
       "      <td>0.29</td>\n",
       "    </tr>\n",
       "  </tbody>\n",
       "</table>\n",
       "</div>"
      ],
      "text/plain": [
       "        Flexão  Tracção  Torsão\n",
       "$10^3$     0.9     0.90    0.70\n",
       "$10^6$     0.5     0.43    0.29"
      ]
     },
     "execution_count": 87,
     "metadata": {},
     "output_type": "execute_result"
    }
   ],
   "source": [
    "data = [[0.9,0.9,0.7], [0.5,0.43,0.29]]\n",
    "df = pd.DataFrame(data,index=['$10^3$', '$10^6$'], columns=('Flexão', 'Tracção', 'Torsão'))\n",
    "#df.index.name = 'Ciclos'\n",
    "df"
   ]
  },
  {
   "cell_type": "markdown",
   "metadata": {
    "hideCode": true,
    "hidePrompt": true
   },
   "source": [
    "Assumindo uma equação da reta do tipo:"
   ]
  },
  {
   "cell_type": "code",
   "execution_count": 67,
   "metadata": {
    "hideCode": true,
    "hidePrompt": true,
    "scrolled": true
   },
   "outputs": [
    {
     "data": {
      "image/png": "[encoded data removed]",
      "text/latex": [
       "$\\displaystyle y = b + m x$"
      ],
      "text/plain": [
       "y = b + m⋅x"
      ]
     },
     "metadata": {},
     "output_type": "display_data"
    }
   ],
   "source": [
    "eq1 = Eq(y,m*x+b)\n",
    "display(eq1)"
   ]
  },
  {
   "cell_type": "markdown",
   "metadata": {
    "hideCode": true,
    "hidePrompt": true
   },
   "source": [
    "$m$ é o declive da recta e $b$ a intersecção com o eixo $y$ para $x=0$. "
   ]
  },
  {
   "cell_type": "markdown",
   "metadata": {
    "hideCode": true,
    "hidePrompt": true
   },
   "source": [
    "Para o caso da curva S-N entre $10^3$ e $10^6$ ciclos ($3\\leq n\\leq 6$), vem que: "
   ]
  },
  {
   "cell_type": "code",
   "execution_count": 78,
   "metadata": {
    "hideCode": true,
    "hidePrompt": true
   },
   "outputs": [
    {
     "data": {
      "image/png": "[encoded data removed]",
      "text/latex": [
       "$\\displaystyle y = \\log{\\left(\\frac{\\sigma}{\\sigma_{r}} \\right)}$"
      ],
      "text/plain": [
       "       ⎛σ     ⎞\n",
       "y = log⎜──, 10⎟\n",
       "       ⎝σᵣ    ⎠"
      ]
     },
     "metadata": {},
     "output_type": "display_data"
    }
   ],
   "source": [
    "eq2 = Eq(y,log(sigma/sigmar,10,evaluate=False))\n",
    "display(eq2)"
   ]
  },
  {
   "cell_type": "code",
   "execution_count": 79,
   "metadata": {
    "hideCode": true,
    "hidePrompt": true
   },
   "outputs": [
    {
     "data": {
      "image/png": "[encoded data removed]",
      "text/latex": [
       "$\\displaystyle x = \\log{\\left(10^{n} \\right)}$"
      ],
      "text/plain": [
       "       ⎛  n    ⎞\n",
       "x = log⎝10 , 10⎠"
      ]
     },
     "metadata": {},
     "output_type": "display_data"
    }
   ],
   "source": [
    "eq3 = Eq(x,log(10**n,10,evaluate=False))\n",
    "display(eq3)"
   ]
  },
  {
   "cell_type": "markdown",
   "metadata": {
    "hideCode": true,
    "hidePrompt": true
   },
   "source": [
    "Os dados da Tabela 1 permitem determinar os valores numéricos do declive $m$:"
   ]
  },
  {
   "cell_type": "code",
   "execution_count": 80,
   "metadata": {
    "hideCode": true,
    "hidePrompt": true
   },
   "outputs": [
    {
     "data": {
      "image/png": "[encoded data removed]",
      "text/latex": [
       "$\\displaystyle m = -0.0851$"
      ],
      "text/plain": [
       "m = -0.0851"
      ]
     },
     "metadata": {},
     "output_type": "display_data"
    }
   ],
   "source": [
    "eq4 = Eq(m, (log(0.5,10)-log(0.9,10))/(log(10**6,10)-log(10**3,10)))\n",
    "display(N(eq4,3))"
   ]
  },
  {
   "cell_type": "markdown",
   "metadata": {
    "hideCode": true,
    "hidePrompt": true
   },
   "source": [
    "Assumindo que $b=log(a)$, vem que:"
   ]
  },
  {
   "cell_type": "code",
   "execution_count": 81,
   "metadata": {
    "hideCode": true,
    "hidePrompt": true
   },
   "outputs": [
    {
     "data": {
      "image/png": "[encoded data removed]",
      "text/latex": [
       "$\\displaystyle \\log{\\left(\\frac{\\sigma}{\\sigma_{r}} \\right)} = m \\log{\\left(10^{n} \\right)} + \\log{\\left(a \\right)}$"
      ],
      "text/plain": [
       "   ⎛σ     ⎞        ⎛  n    ⎞             \n",
       "log⎜──, 10⎟ = m⋅log⎝10 , 10⎠ + log(a, 10)\n",
       "   ⎝σᵣ    ⎠                              "
      ]
     },
     "metadata": {},
     "output_type": "display_data"
    }
   ],
   "source": [
    "eq6 = eq1.subs(x, eq3.rhs)\n",
    "eq7 = eq6.subs(y, eq2.rhs)\n",
    "eq8 = eq7.subs(b, log(a,10,evaluate=False))\n",
    "display(eq8)"
   ]
  },
  {
   "cell_type": "code",
   "execution_count": 82,
   "metadata": {
    "hideCode": true,
    "hidePrompt": true
   },
   "outputs": [
    {
     "data": {
      "image/png": "[encoded data removed]",
      "text/latex": [
       "$\\displaystyle \\frac{\\sigma}{\\sigma_{r}} = a e^{m n \\log{\\left(10 \\right)}}$"
      ],
      "text/plain": [
       "σ       m⋅n⋅log(10)\n",
       "── = a⋅ℯ           \n",
       "σᵣ                 "
      ]
     },
     "metadata": {},
     "output_type": "display_data"
    }
   ],
   "source": [
    "res = solve(eq8, sigma/sigmar)[0]\n",
    "eq10 = Eq(sigma/sigmar,simplify(res))\n",
    "display(eq10)"
   ]
  },
  {
   "cell_type": "markdown",
   "metadata": {
    "hideCode": true,
    "hidePrompt": true
   },
   "source": [
    "Assim, conhecido um ponto característico da curva S-N para flexão (por exemplo), o valor de $a$ toma o valor de:"
   ]
  },
  {
   "cell_type": "code",
   "execution_count": 83,
   "metadata": {
    "hideCode": true,
    "hidePrompt": true
   },
   "outputs": [
    {
     "data": {
      "image/png": "[encoded data removed]",
      "text/latex": [
       "$\\displaystyle \\frac{\\sigma}{\\sigma_{r}} = 0.9$"
      ],
      "text/plain": [
       "σ       \n",
       "── = 0.9\n",
       "σᵣ      "
      ]
     },
     "metadata": {},
     "output_type": "display_data"
    },
    {
     "data": {
      "image/png": "[encoded data removed]",
      "text/latex": [
       "$\\displaystyle a = 1.62$"
      ],
      "text/plain": [
       "a = 1.62"
      ]
     },
     "metadata": {},
     "output_type": "display_data"
    }
   ],
   "source": [
    "eq11 =Eq(sigma/sigmar,0.9)\n",
    "eq12 = eq10.subs(m,eq4.rhs).subs(sigma/sigmar,0.9).subs(n,3)\n",
    "display(eq11)\n",
    "display(eq12.simplify())"
   ]
  },
  {
   "cell_type": "markdown",
   "metadata": {
    "hideCode": true,
    "hidePrompt": true
   },
   "source": [
    "Vindo finalmente:"
   ]
  },
  {
   "cell_type": "code",
   "execution_count": 84,
   "metadata": {
    "hideCode": true,
    "hidePrompt": true
   },
   "outputs": [
    {
     "data": {
      "image/png": "[encoded data removed]",
      "text/latex": [
       "$\\displaystyle \\frac{\\sigma}{\\sigma_{r}} = 0.555555555555556 a e^{- 0.195928888300706 n}$"
      ],
      "text/plain": [
       "σ                         -0.195928888300706⋅n\n",
       "── = 0.555555555555556⋅a⋅ℯ                    \n",
       "σᵣ                                            "
      ]
     },
     "metadata": {},
     "output_type": "display_data"
    }
   ],
   "source": [
    "eq_simp = Eq(eq10.lhs, simplify(eq12.rhs)*10**(eq4.rhs*n))\n",
    "display(simplify(eq_simp))"
   ]
  },
  {
   "cell_type": "code",
   "execution_count": null,
   "metadata": {
    "hideCode": true,
    "hidePrompt": true
   },
   "outputs": [],
   "source": []
  }
 ],
 "metadata": {
  "hide_code_all_hidden": true,
  "kernelspec": {
   "display_name": "Python 3",
   "language": "python",
   "name": "python3"
  },
  "language_info": {
   "codemirror_mode": {
    "name": "ipython",
    "version": 3
   },
   "file_extension": ".py",
   "mimetype": "text/x-python",
   "name": "python",
   "nbconvert_exporter": "python",
   "pygments_lexer": "ipython3",
   "version": "3.8.5"
  }
 },
 "nbformat": 4,
 "nbformat_minor": 4
}

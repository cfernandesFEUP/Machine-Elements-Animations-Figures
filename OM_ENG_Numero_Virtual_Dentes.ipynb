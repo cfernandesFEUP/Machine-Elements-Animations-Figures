{
 "cells": [
  {
   "cell_type": "markdown",
   "metadata": {
    "hideCode": false,
    "hidePrompt": false
   },
   "source": [
    "## Número Virtual de Dentes"
   ]
  },
  {
   "cell_type": "code",
   "execution_count": 57,
   "metadata": {
    "hideCode": false,
    "hidePrompt": false
   },
   "outputs": [],
   "source": [
    "from sympy import *\n",
    "import numpy as np\n",
    "x, y, a, b, r, beta, zv, ro = symbols('x y a b r beta z_v rho', positive = True, real = True)"
   ]
  },
  {
   "cell_type": "markdown",
   "metadata": {
    "hideCode": false,
    "hidePrompt": false
   },
   "source": [
    "Sabendo que a intercepção do plano perpendicular à hélice primitiva com o cilindro primitivo se faz segundo uma elipse, recordemos a equação da elipse:"
   ]
  },
  {
   "cell_type": "code",
   "execution_count": 58,
   "metadata": {
    "hideCode": false,
    "hidePrompt": false
   },
   "outputs": [
    {
     "data": {
      "text/latex": [
       "$\\displaystyle \\frac{y^{2}}{b^{2}} + \\frac{x^{2}}{a^{2}} = 1$"
      ],
      "text/plain": [
       "Eq(y**2/b**2 + x**2/a**2, 1)"
      ]
     },
     "metadata": {},
     "output_type": "display_data"
    }
   ],
   "source": [
    "elipse = Eq(x**2/a**2+y**2/b**2,1)\n",
    "display(elipse)"
   ]
  },
  {
   "cell_type": "markdown",
   "metadata": {
    "hideCode": false,
    "hidePrompt": false
   },
   "source": [
    "Pondo em evidência $y$:"
   ]
  },
  {
   "cell_type": "code",
   "execution_count": 59,
   "metadata": {
    "hideCode": false,
    "hidePrompt": false
   },
   "outputs": [
    {
     "data": {
      "text/latex": [
       "$\\displaystyle y = - \\frac{b \\sqrt{a^{2} - x^{2}}}{a}$"
      ],
      "text/plain": [
       "Eq(y, -b*sqrt(a**2 - x**2)/a)"
      ]
     },
     "metadata": {},
     "output_type": "display_data"
    }
   ],
   "source": [
    "elipsey = Eq(y,solve(elipse,y)[0])\n",
    "display(elipsey)"
   ]
  },
  {
   "cell_type": "code",
   "execution_count": 60,
   "metadata": {
    "hideCode": false,
    "hidePrompt": false
   },
   "outputs": [
    {
     "data": {
      "text/latex": [
       "$\\displaystyle \\frac{b x}{a \\sqrt{a^{2} - x^{2}}}$"
      ],
      "text/plain": [
       "b*x/(a*sqrt(a**2 - x**2))"
      ]
     },
     "metadata": {},
     "output_type": "display_data"
    }
   ],
   "source": [
    "dydx = Derivative(elipsey.rhs,x)\n",
    "display(simplify(dydx))"
   ]
  },
  {
   "cell_type": "code",
   "execution_count": 61,
   "metadata": {
    "hideCode": false,
    "hidePrompt": false
   },
   "outputs": [
    {
     "data": {
      "text/latex": [
       "$\\displaystyle \\frac{b \\left(\\frac{x^{2}}{a^{2} - x^{2}} + 1\\right)}{a \\sqrt{a^{2} - x^{2}}}$"
      ],
      "text/plain": [
       "b*(x**2/(a**2 - x**2) + 1)/(a*sqrt(a**2 - x**2))"
      ]
     },
     "metadata": {},
     "output_type": "display_data"
    }
   ],
   "source": [
    "d2ydx2 = Derivative(elipsey.rhs,x,2)\n",
    "display(simplify(d2ydx2))"
   ]
  },
  {
   "cell_type": "markdown",
   "metadata": {
    "hideCode": false,
    "hidePrompt": false
   },
   "source": [
    "Por outro lado a curvatura desta elipse pode ser determinada por:"
   ]
  },
  {
   "cell_type": "code",
   "execution_count": 64,
   "metadata": {
    "hideCode": false,
    "hidePrompt": false
   },
   "outputs": [
    {
     "data": {
      "text/latex": [
       "$\\displaystyle \\rho = - \\frac{\\sqrt{\\frac{r^{2}}{\\cos^{2}{\\left(\\beta \\right)}} - x^{2}} \\left(\\frac{x^{2} \\cos^{2}{\\left(\\beta \\right)}}{\\frac{r^{2}}{\\cos^{2}{\\left(\\beta \\right)}} - x^{2}} + 1\\right)^{1.5}}{\\left(\\frac{x^{2}}{\\frac{r^{2}}{\\cos^{2}{\\left(\\beta \\right)}} - x^{2}} + 1\\right) \\cos{\\left(\\beta \\right)}}$"
      ],
      "text/plain": [
       "Eq(rho, -sqrt(r**2/cos(beta)**2 - x**2)*(x**2*cos(beta)**2/(r**2/cos(beta)**2 - x**2) + 1)**1.5/((x**2/(r**2/cos(beta)**2 - x**2) + 1)*cos(beta)))"
      ]
     },
     "metadata": {},
     "output_type": "display_data"
    }
   ],
   "source": [
    "d1 = dydx.subs(a,r/cos(beta)).subs(b,r)\n",
    "d1\n",
    "d2 = d2ydx2.subs(a,r/cos(beta)).subs(b,r)\n",
    "d2\n",
    "curvatura = Eq(ro, (-(1+d1**2)**(3/2))/d2)\n",
    "display(simplify(curvatura))"
   ]
  },
  {
   "cell_type": "code",
   "execution_count": 65,
   "metadata": {
    "hideCode": false,
    "hidePrompt": false
   },
   "outputs": [
    {
     "data": {
      "text/latex": [
       "$\\displaystyle \\rho = - \\frac{r}{\\cos{\\left(\\beta \\right)} \\left|{\\cos{\\left(\\beta \\right)}}\\right|}$"
      ],
      "text/plain": [
       "Eq(rho, -r/(cos(beta)*Abs(cos(beta))))"
      ]
     },
     "metadata": {},
     "output_type": "display_data"
    }
   ],
   "source": [
    "curvatura_x0 = curvatura.subs(x,0)\n",
    "display(simplify(curvatura_x0))"
   ]
  },
  {
   "cell_type": "code",
   "execution_count": null,
   "metadata": {},
   "outputs": [],
   "source": []
  }
 ],
 "metadata": {
  "hide_code_all_hidden": false,
  "kernelspec": {
   "display_name": "Python 3",
   "language": "python",
   "name": "python3"
  },
  "language_info": {
   "codemirror_mode": {
    "name": "ipython",
    "version": 3
   },
   "file_extension": ".py",
   "mimetype": "text/x-python",
   "name": "python",
   "nbconvert_exporter": "python",
   "pygments_lexer": "ipython3",
   "version": "3.8.5"
  }
 },
 "nbformat": 4,
 "nbformat_minor": 4
}
